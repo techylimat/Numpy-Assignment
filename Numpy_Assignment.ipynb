{
 "cells": [
  {
   "cell_type": "markdown",
   "metadata": {},
   "source": [
    "### 100 NUMPY EXERCISES"
   ]
  },
  {
   "cell_type": "code",
   "execution_count": null,
   "metadata": {},
   "outputs": [],
   "source": [
    "#1 Import the numpy package under the name np\n",
    "\n",
    "import numpy as np"
   ]
  },
  {
   "cell_type": "code",
   "execution_count": null,
   "metadata": {},
   "outputs": [],
   "source": [
    "#2 Print the numpy version and the configuration\n",
    "\n",
    "import numpy as np\n",
    "\n",
    "print(\"NumPy version:\", np.__version__)\n",
    "\n",
    "print(\"\\nNumPy configuration:\")\n",
    "print(np.show_config())"
   ]
  },
  {
   "cell_type": "code",
   "execution_count": null,
   "metadata": {},
   "outputs": [],
   "source": [
    "#3  Create a null vector of size 10\n",
    "\n",
    "import numpy as np\n",
    "null_vector = np.zeros(10)\n",
    "print(null_vector)"
   ]
  },
  {
   "cell_type": "code",
   "execution_count": null,
   "metadata": {},
   "outputs": [],
   "source": [
    "#4 How to find the memory size of any array\n",
    "import numpy as np\n",
    "arr = np.array((1, 2, 3, 4)) #create an array\n",
    "memory_size = arr.nbytes\n",
    "print(\"Memory size of the array:\", memory_size, \"bytes\")"
   ]
  },
  {
   "cell_type": "code",
   "execution_count": null,
   "metadata": {},
   "outputs": [],
   "source": [
    "#5 How to get the documentation of the numpy add function from the command line?\n",
    "\n",
    "!python -c \"import numpy as np; help(np.add)\""
   ]
  },
  {
   "cell_type": "code",
   "execution_count": null,
   "metadata": {},
   "outputs": [],
   "source": [
    "#6 Create a null vector of size 10 but the fifth value which is 1\n",
    "import numpy as np\n",
    "null_vector = np.zeros(10) # Create a null vector of size 10\n",
    "# Set the fifth value to 1\n",
    "null_vector[4] = 1\n",
    "print(null_vector)"
   ]
  },
  {
   "cell_type": "code",
   "execution_count": null,
   "metadata": {},
   "outputs": [],
   "source": [
    "#7 Create a vector with values ranging from 10 to 49\n",
    "import numpy as np\n",
    "vector = np.arange(10, 50)\n",
    "print(vector)"
   ]
  },
  {
   "cell_type": "code",
   "execution_count": null,
   "metadata": {},
   "outputs": [],
   "source": [
    "#8 Reverse a vector (first element becomes last) \n",
    "import numpy as np\n",
    "vector = np.arange(10, 50)\n",
    "# Reverse the vector\n",
    "reversed_vector = vector[::-1]\n",
    "print(reversed_vector)"
   ]
  },
  {
   "cell_type": "code",
   "execution_count": null,
   "metadata": {},
   "outputs": [],
   "source": [
    "#9 Create a 3x3 matrix with values ranging from 0 to 8\n",
    "import numpy as np\n",
    "vector = np.arange(0, 9)\n",
    "matrix = vector.reshape(3,3)\n",
    "print(matrix)"
   ]
  },
  {
   "cell_type": "code",
   "execution_count": null,
   "metadata": {},
   "outputs": [],
   "source": [
    "#10 Find indices of non-zero elements from [1,2,0,0,4,0] \n",
    "\n",
    "import numpy as np\n",
    "arr = np.array([1, 2, 0, 0, 4, 0])\n",
    "# Find the indices of non-zero elements\n",
    "non_zero_indices = np.nonzero(arr)\n",
    "print(\"Indices of non-zero elements:\", non_zero_indices)"
   ]
  },
  {
   "cell_type": "code",
   "execution_count": null,
   "metadata": {},
   "outputs": [],
   "source": [
    "#11 Create a 3x3 identity matrix \n",
    "import numpy as np\n",
    "identity_matrix = np.eye(3)\n",
    "print(identity_matrix)"
   ]
  },
  {
   "cell_type": "code",
   "execution_count": null,
   "metadata": {},
   "outputs": [],
   "source": [
    "#12  Create a 3x3x3 array with random values\n",
    "import numpy as np\n",
    "random_array = np.random.rand(3, 3, 3)\n",
    "print(random_array)"
   ]
  },
  {
   "cell_type": "code",
   "execution_count": null,
   "metadata": {},
   "outputs": [],
   "source": [
    "#13 Create a 10x10 array with random values and find the minimum and maximum values\n",
    "import numpy as np\n",
    "random_array = np.random.rand(10, 10)\n",
    "# To find minimum\n",
    "print(np.min(random_array))\n",
    "print(np.max(random_array))"
   ]
  },
  {
   "cell_type": "code",
   "execution_count": null,
   "metadata": {},
   "outputs": [],
   "source": [
    "#14 Create a random vector of size 30 and find the mean value\n",
    "import numpy as np\n",
    "random_array = np.random.rand(30)\n",
    "print('random array mean value:', random_array.mean())"
   ]
  },
  {
   "cell_type": "code",
   "execution_count": null,
   "metadata": {},
   "outputs": [],
   "source": [
    "#15 Create a 2d array with 1 on the border and 0 inside\n",
    "import numpy as np\n",
    "\n",
    "# Define the dimensions of the array\n",
    "rows, cols = 5, 5\n",
    "\n",
    "# Create an array filled with zeros\n",
    "array = np.zeros((rows, cols))\n",
    "\n",
    "# Set the border values to 1\n",
    "array[0, :] = 1\n",
    "array[-1, :] = 1\n",
    "array[:, 0] = 1\n",
    "array[:, -1] = 1\n",
    "\n",
    "print(array)"
   ]
  },
  {
   "cell_type": "code",
   "execution_count": null,
   "metadata": {},
   "outputs": [],
   "source": [
    "#16 How to add a border (filled with 0's) around an existing array?\n",
    "import numpy as np\n",
    "\n",
    "existing_array = np.array([[1, 2, 3], [4, 5, 6], [7, 8, 9]])\n",
    "\n",
    "# Get the dimensions of the existing array\n",
    "rows, cols = existing_array.shape\n",
    "\n",
    "# Create a new array with increased dimensions\n",
    "new_rows, new_cols = rows + 2, cols + 2\n",
    "bordered_array = np.zeros((new_rows, new_cols), dtype=existing_array.dtype)\n",
    "\n",
    "# Copy the existing array into the center of the new array\n",
    "bordered_array[1:-1, 1:-1] = existing_array\n",
    "\n",
    "print(\"Original array:\")\n",
    "print(existing_array)\n",
    "print(\"\\nArray with border:\")\n",
    "print(bordered_array)"
   ]
  },
  {
   "cell_type": "code",
   "execution_count": null,
   "metadata": {},
   "outputs": [],
   "source": [
    "#17 What is the result of the following expression? \n",
    "0 * np.nan : np.nan\n",
    "np.nan == np.nan : False\n",
    "np.inf > np.nan : False\n",
    "np.nan - np.nan :np.nan\n",
    "np.nan in set([np.nan]): True\n",
    "0.3 == 3 * 0.1 : False"
   ]
  },
  {
   "cell_type": "code",
   "execution_count": null,
   "metadata": {},
   "outputs": [],
   "source": [
    "#18 Create a 5x5 matrix with values 1,2,3,4 just below the diagonal \n",
    "\n",
    "import numpy as np\n",
    "diagonal_matrix = np.diag([1, 2, 3, 4], k=-1)\n",
    "print(\"Diagonal matrix:\")\n",
    "print(diagonal_matrix)"
   ]
  },
  {
   "cell_type": "code",
   "execution_count": null,
   "metadata": {},
   "outputs": [],
   "source": [
    "#19 Create a 8x8 matrix and fill it with a checkerboard pattern\n",
    "import numpy as np\n",
    "matrix = np.zeros((8, 8), dtype=int)\n",
    "\n",
    "# Fill the matrix with a checkerboard pattern\n",
    "matrix[::2, ::2] = 1  # Fill every other row and every other column with 1\n",
    "matrix[1::2, 1::2] = 1  # Fill the remaining rows and columns with 1\n",
    "\n",
    "print(matrix)\n"
   ]
  },
  {
   "cell_type": "code",
   "execution_count": null,
   "metadata": {},
   "outputs": [],
   "source": [
    "#20 Consider a (6,7,8) shape array, what is the index (x,y,z) of the 100th element\n",
    "\n",
    "import numpy as np\n",
    "\n",
    "# Define the shape of the array\n",
    "shape = (6, 7, 8)\n",
    "\n",
    "# Define the index of the 100th element\n",
    "index = 100  \n",
    "\n",
    "# Convert the linear index to multi-dimensional indices\n",
    "x, y, z = np.unravel_index(index, shape)\n",
    "\n",
    "print(\"Index (x, y, z) of the 100th element:\", (x, y, z))"
   ]
  },
  {
   "cell_type": "code",
   "execution_count": null,
   "metadata": {},
   "outputs": [],
   "source": [
    "#21 Create a checkerboard 8x8 matrix using the tile function\n",
    "array= np.array([[0,1], [1,0]])\n",
    "checkerboard = np.tile(array,(4,4))\n",
    "print (checkerboard)"
   ]
  },
  {
   "cell_type": "code",
   "execution_count": null,
   "metadata": {},
   "outputs": [],
   "source": [
    "#22 Normalize a 5x5 random matrix\n",
    "Z = np.random.random((5,5))\n",
    "Zmax, Zmin = Z.max(), Z.min()\n",
    "Z= (Z-Zmin)/(Zmax-Zmin)\n",
    "print (Z)"
   ]
  },
  {
   "cell_type": "code",
   "execution_count": null,
   "metadata": {},
   "outputs": [],
   "source": [
    "#23 Create a custom dtype that describes a color as four unsigned bytes (RGBA)\n",
    "color = np.dtype([(\"r\", np.ubyte, 1), (\"g\", np.ubyte, 1), (\"b\", np.ubyte, 1), (\"a\", np.ubyte, 1)])\n",
    "print('Custom RGBA dtype:')\n",
    "print(color)"
   ]
  },
  {
   "cell_type": "code",
   "execution_count": null,
   "metadata": {},
   "outputs": [],
   "source": [
    "#24 Multiply a 5x3 matrix by a 3x2 matrix (real matrix product)\n",
    "Z = np.dot(np.ones((5,3)), np.ones((3,2)))\n",
    "print(Z)\n"
   ]
  },
  {
   "cell_type": "code",
   "execution_count": null,
   "metadata": {},
   "outputs": [],
   "source": [
    "#25 Given a 1D array, negate all elements which are between 3 and 8, in place.\n",
    "array = np.arange(11)\n",
    "array[(3 < array) & (array <= 8)] *= -1\n",
    "print(array)"
   ]
  },
  {
   "cell_type": "code",
   "execution_count": null,
   "metadata": {},
   "outputs": [],
   "source": [
    "#26 What is the output of the following script?\n",
    "print(sum(range(5),-1))\n",
    "from numpy import *\n",
    "print(sum(range(5),-1))"
   ]
  },
  {
   "cell_type": "code",
   "execution_count": null,
   "metadata": {},
   "outputs": [],
   "source": [
    "#27 Consider an integer vector Z, which of these expressions are legal? \n",
    "Z**Z == legal\n",
    "2 << Z >> 2 == legal\n",
    "Z <- Z == legal\n",
    "1j*Z == legal\n",
    "Z/1/1 == legal\n",
    "Z<Z>Z == illegal"
   ]
  },
  {
   "cell_type": "code",
   "execution_count": null,
   "metadata": {},
   "outputs": [],
   "source": [
    "#28 What are the result of the following expressions? (★☆☆)\n",
    "np.array(0) / np.array(0)\n",
    "np.array(0) // np.array(0)\n",
    "np.array([np.nan]).astype(int).astype(float)"
   ]
  },
  {
   "cell_type": "code",
   "execution_count": null,
   "metadata": {},
   "outputs": [],
   "source": [
    "#29 How to round away from zero a float array ?\n",
    "Z = np.random.uniform(-10,+10,10)\n",
    "print (np.copysign(np.ceil(np.abs(Z)), Z))"
   ]
  },
  {
   "cell_type": "code",
   "execution_count": null,
   "metadata": {},
   "outputs": [],
   "source": [
    "#30  How to find common values between two arrays?\n",
    "array1 = np.array([1, 2, 3, 4, 5])\n",
    "array2 = np.array([3, 4, 5, 6, 7])\n",
    "\n",
    "# Find common values between the two arrays\n",
    "common_values = np.intersect1d(array1, array2)\n",
    "\n",
    "print(\"Common values between the two arrays:\")\n",
    "print(common_values)"
   ]
  },
  {
   "cell_type": "code",
   "execution_count": null,
   "metadata": {},
   "outputs": [],
   "source": [
    "#31 How to ignore all numpy warnings (not recommended)?\n",
    "# Suicide mode on\n",
    "defaults = np.seterr(all=\"ignore\")\n",
    "Z = np.ones(1) / 0\n",
    "\n",
    "# Back to sanity\n",
    "_ = np.seterr(**defaults)"
   ]
  },
  {
   "cell_type": "code",
   "execution_count": null,
   "metadata": {},
   "outputs": [],
   "source": [
    "#32 Is the following expressions true? \n",
    "np.sqrt(-1) == np.emath.sqrt(-1)"
   ]
  },
  {
   "cell_type": "code",
   "execution_count": null,
   "metadata": {},
   "outputs": [],
   "source": [
    "#33 How to get the dates of yesterday, today and tomorrow? \n",
    "yesterday = np.datetime64('today', 'D') - np.timedelta64(1, 'D')\n",
    "today     = np.datetime64('today', 'D')\n",
    "tomorrow  = np.datetime64('today', 'D') + np.timedelta64(1, 'D')\n",
    "\n",
    "print('Yesterday:', yesterday)\n",
    "print('Today:', today)\n",
    "print('Tomorrow:', tomorrow)"
   ]
  },
  {
   "cell_type": "code",
   "execution_count": null,
   "metadata": {},
   "outputs": [],
   "source": [
    "#34 How to get all the dates corresponding to the month of July 2016?\n",
    "Z = np.arange('2016-07', '2016-08', dtype='datetime64[D]')\n",
    "print(Z)"
   ]
  },
  {
   "cell_type": "code",
   "execution_count": null,
   "metadata": {},
   "outputs": [],
   "source": [
    "#35 How to compute ((A+B)*(-A/2)) in place (without copy)? \n",
    "A = np.ones(3)*1\n",
    "B = np.ones(3)*2\n",
    "C = np.ones(3)*3\n",
    "np.add(A,B,out=B)\n",
    "np.divide(A,2,out=A)\n",
    "np.negative(A,out=A)\n",
    "np.multiply(A,B,out=A)"
   ]
  },
  {
   "cell_type": "code",
   "execution_count": null,
   "metadata": {},
   "outputs": [],
   "source": [
    "#36  Extract the integer part of a random array of positive numbers using 4 different methods\n",
    "Z = np.random.uniform(10,0,10)\n",
    "\n",
    "print (Z - Z%1)\n",
    "print (np.floor(Z))\n",
    "print (np.ceil(Z)-1)\n",
    "print (Z.astype(int))\n",
    "print (np.trunc(Z))"
   ]
  },
  {
   "cell_type": "code",
   "execution_count": null,
   "metadata": {},
   "outputs": [],
   "source": [
    "#37 Create a 5x5 matrix with row values ranging from 0 to 4\n",
    "Z = np.zeros((5,5))\n",
    "Z += np.arange(5)\n",
    "print(Z)"
   ]
  },
  {
   "cell_type": "code",
   "execution_count": null,
   "metadata": {},
   "outputs": [],
   "source": [
    "#38  Consider a generator function that generates 10 integers and use it to build an array\n",
    "def generate_integers():\n",
    "    for i in range(10):\n",
    "        yield i\n",
    "\n",
    "array_from_generator = np.fromiter(generate_integers(), dtype=int)\n",
    "\n",
    "print(\"Array generated from the generator function:\", array_from_generator)"
   ]
  },
  {
   "cell_type": "code",
   "execution_count": null,
   "metadata": {},
   "outputs": [],
   "source": [
    "#39 Create a vector of size 10 with values ranging from 0 to 1, both excluded\n",
    "vector = np.linspace(0,1,11,endpoint=False)[1:]\n",
    "print(vector)"
   ]
  },
  {
   "cell_type": "code",
   "execution_count": null,
   "metadata": {},
   "outputs": [],
   "source": [
    "#40 Create a random vector of size 10 and sort it\n",
    "vector = np.random.rand(10)\n",
    "sorted_vector =np.sort(vector) \n",
    "print(sorted_vector)"
   ]
  },
  {
   "cell_type": "code",
   "execution_count": null,
   "metadata": {},
   "outputs": [],
   "source": [
    "#41 How to sum a small array faster than np.sum? \n",
    "Z = np.arange(10)\n",
    "np.add.reduce(Z)"
   ]
  },
  {
   "cell_type": "code",
   "execution_count": null,
   "metadata": {},
   "outputs": [],
   "source": [
    "#42  Consider two random array A and B, check if they are equal\n",
    "A = np.random.rand(5)\n",
    "B = np.random.rand(5)\n",
    "\n",
    "are_equal = np.array_equal(A, B)\n",
    "\n",
    "if are_equal:\n",
    "    print(\"Arrays A and B are equal.\")\n",
    "else:\n",
    "    print(\"Arrays A and B are not equal.\")"
   ]
  },
  {
   "cell_type": "code",
   "execution_count": null,
   "metadata": {},
   "outputs": [],
   "source": [
    "#43 Make an array immutable (read-only)\n",
    "Z = np.zeros(10)\n",
    "Z.flags.writeable = False\n",
    "Z[0] = 1"
   ]
  },
  {
   "cell_type": "code",
   "execution_count": null,
   "metadata": {},
   "outputs": [],
   "source": [
    "#44 Consider a random 10x2 matrix representing cartesian coordinates, convert them to polar coordinates\n",
    "Z = np.random.random((10,2))\n",
    "X,Y = Z[:,0], Z[:,1]\n",
    "R = np.sqrt(X**2+Y**2)\n",
    "T = np.arctan2(Y,X)\n",
    "print(R)\n",
    "print(T)"
   ]
  },
  {
   "cell_type": "code",
   "execution_count": null,
   "metadata": {},
   "outputs": [],
   "source": [
    "#45 Create random vector of size 10 and replace the maximum value by 0 \n",
    "random_vector = np.random.rand(10)\n",
    "print(\"Original Vector:\", random_vector)\n",
    "\n",
    "# Find the index of the maximum value\n",
    "max_index = np.argmax(random_vector)\n",
    "\n",
    "# Replace the maximum value with 0\n",
    "random_vector[max_index] = 0\n",
    "\n",
    "print(\"Vector after replacing maximum value with 0:\", random_vector)"
   ]
  },
  {
   "cell_type": "code",
   "execution_count": null,
   "metadata": {},
   "outputs": [],
   "source": [
    "#46 Create a structured array with x and y coordinates covering the [0,1]x[0,1] area \n",
    "Z = np.zeros((5,5), [('x',float),('y',float)])\n",
    "Z['x'], Z['y'] = np.meshgrid(np.linspace(0,1,5),np.linspace(0,1,5))\n",
    "print(Z)"
   ]
  },
  {
   "cell_type": "code",
   "execution_count": null,
   "metadata": {},
   "outputs": [],
   "source": [
    "#47 Given two arrays, X and Y, construct the Cauchy matrix C (Cij =1/(xi - yj))\n",
    "X = np.arange(8)\n",
    "Y = X + 0.5\n",
    "C = 1.0 / np.subtract.outer(X, Y)\n",
    "print(np.linalg.det(C))"
   ]
  },
  {
   "cell_type": "code",
   "execution_count": null,
   "metadata": {},
   "outputs": [],
   "source": [
    "#48 Print the minimum and maximum representable value for each numpy scalar type \n",
    "for dtype in [np.int8, np.int32, np.int64]:\n",
    "   print(np.iinfo(dtype).min)\n",
    "   print(np.iinfo(dtype).max)\n",
    "for dtype in [np.float32, np.float64]:\n",
    "   print(np.finfo(dtype).min)\n",
    "   print(np.finfo(dtype).max)\n",
    "   print(np.finfo(dtype).eps)"
   ]
  },
  {
   "cell_type": "code",
   "execution_count": null,
   "metadata": {},
   "outputs": [],
   "source": [
    "#49 How to print all the values of an array? \n",
    "np.set_printoptions()\n",
    "Z = np.zeros((20,20))\n",
    "print(Z)"
   ]
  },
  {
   "cell_type": "code",
   "execution_count": null,
   "metadata": {},
   "outputs": [],
   "source": [
    "#50 How to find the closest value (to a given scalar) in a vector? Z = np.arange(100)\n",
    "v = np.random.uniform(0,100)\n",
    "index = (np.abs(Z-v)).argmin()\n",
    "print(Z[index])"
   ]
  },
  {
   "cell_type": "code",
   "execution_count": null,
   "metadata": {},
   "outputs": [],
   "source": [
    "#51 Create a structured array representing a position (x,y) and a color (r,g,b) \n",
    "Z = np.zeros(10, [ ('position', [ ('x', float, 1),\n",
    "                                  ('y', float, 1)]),\n",
    "                   ('color',    [ ('r', float, 1),\n",
    "                                  ('g', float, 1),\n",
    "                                  ('b', float, 1)])])\n",
    "print(Z)"
   ]
  },
  {
   "cell_type": "code",
   "execution_count": null,
   "metadata": {},
   "outputs": [],
   "source": [
    "#52 Consider a random vector with shape (100,2) representing coordinates, find point by point distances \n",
    "Z = np.random.random((10,2))\n",
    "X,Y = np.atleast_2d(Z[:,0], Z[:,1])\n",
    "D = np.sqrt( (X-X.T)**2 + (Y-Y.T)**2)\n",
    "print(D)\n",
    "\n",
    "\n"
   ]
  },
  {
   "cell_type": "code",
   "execution_count": null,
   "metadata": {},
   "outputs": [],
   "source": [
    "#53 How to convert a float (32 bits) array into an integer (32 bits) in place?\n",
    "Z = np.arange(10, dtype=np.int32)\n",
    "Z = Z.astype(np.float32, copy=False)\n",
    "print(Z)"
   ]
  },
  {
   "cell_type": "code",
   "execution_count": null,
   "metadata": {},
   "outputs": [],
   "source": [
    "#54 How to read the following file?\n",
    "s = StringIO(\"\"\"1, 2, 3, 4, 5\\n\n",
    "                6,  ,  , 7, 8\\n\n",
    "                 ,  , 9,10,11\\n\"\"\")\n",
    "Z = np.genfromtxt(s, delimiter=\",\", dtype=np.int)\n",
    "print(Z)"
   ]
  },
  {
   "cell_type": "code",
   "execution_count": null,
   "metadata": {},
   "outputs": [],
   "source": [
    "#55 What is the equivalent of enumerate for numpy arrays?\n",
    "Z = np.arange(9).reshape(3,3)\n",
    "for index, value in np.ndenumerate(Z):\n",
    "    print(index, value)\n",
    "for index in np.ndindex(Z.shape):\n",
    "    print(index, Z[index])"
   ]
  },
  {
   "cell_type": "code",
   "execution_count": null,
   "metadata": {},
   "outputs": [],
   "source": [
    "#56 Generate a generic 2D Gaussian-like array\n",
    "X, Y = np.meshgrid(np.linspace(-1,1,10), np.linspace(-1,1,10))\n",
    "D = np.sqrt(X*X+Y*Y)\n",
    "sigma, mu = 1.0, 0.0\n",
    "G = np.exp(-( (D-mu)**2 / ( 2.0 * sigma**2 ) ) )\n",
    "print(G)"
   ]
  },
  {
   "cell_type": "code",
   "execution_count": null,
   "metadata": {},
   "outputs": [],
   "source": [
    "#57  How to randomly place p elements in a 2D array?\n",
    "a = 10\n",
    "b = 3\n",
    "C = np.zeros((a,b))\n",
    "np.put(C, np.random.choice(range(n*n), p, replace=False),1)\n",
    "print(C)"
   ]
  },
  {
   "cell_type": "code",
   "execution_count": null,
   "metadata": {},
   "outputs": [],
   "source": [
    "#58 Subtract the mean of each row of a matrix \n",
    "X = np.random.rand(5, 10)\n",
    "\n",
    "Y = X - X.mean(axis=1, keepdims=True)\n",
    "\n",
    "print(Y)"
   ]
  },
  {
   "cell_type": "code",
   "execution_count": null,
   "metadata": {},
   "outputs": [],
   "source": [
    "#59  How to sort an array by the nth column? \n",
    "Z = np.random.randint(0,10,(3,3))\n",
    "print(Z)\n",
    "print(Z[Z[:,1].argsort()])"
   ]
  },
  {
   "cell_type": "code",
   "execution_count": null,
   "metadata": {},
   "outputs": [],
   "source": [
    "#60 How to tell if a given 2D array has null columns? \n",
    "Z = np.random.randint(0,3,(3,10))\n",
    "print((~Z.any(axis=0)).any())"
   ]
  },
  {
   "cell_type": "code",
   "execution_count": null,
   "metadata": {},
   "outputs": [],
   "source": [
    "#61 Find the nearest value from a given value in an array \n",
    "Z = np.random.uniform(0,10,20)\n",
    "z = 0.5\n",
    "m = Z.flat[np.abs(Z - z).argmin()]\n",
    "print(m)"
   ]
  },
  {
   "cell_type": "code",
   "execution_count": null,
   "metadata": {},
   "outputs": [],
   "source": [
    "#62 Considering two arrays with shape (1,3) and (3,1), how to compute their sum using an iterator?\n",
    "A = np.arange(3).reshape(3,1)\n",
    "B = np.arange(3).reshape(1,3)\n",
    "iter = np.nditer([A,B,None])\n",
    "for x,y,z in iter: z[...] = x + y\n",
    "print(iter.operands[2])"
   ]
  },
  {
   "cell_type": "code",
   "execution_count": null,
   "metadata": {},
   "outputs": [],
   "source": [
    "#63 Create an array class that has a name attribute \n",
    "class NamedArray:\n",
    "    def __init__(self, array, name):\n",
    "        self.array = array\n",
    "        self.name = name\n",
    "\n",
    "    def __repr__(self):\n",
    "        return f\"{self.name}: {self.array}\"\n",
    "\n",
    "# Example usage:\n",
    "arr = NamedArray([1, 2, 3, 4, 5], \"MyArray\")\n",
    "print(arr)"
   ]
  },
  {
   "cell_type": "code",
   "execution_count": null,
   "metadata": {},
   "outputs": [],
   "source": [
    "#64 Consider a given vector, how to add 1 to each element indexed by a second vector (be careful with repeated indices)?\n",
    "a = np.ones(10)\n",
    "b = np.random.randint(0,len(a),20)\n",
    "a += np.bincount(b, minlength=len(a))\n",
    "print(a)\n",
    "\n",
    "np.add.at(a, b, 1)\n",
    "print(a)"
   ]
  },
  {
   "cell_type": "code",
   "execution_count": null,
   "metadata": {},
   "outputs": [],
   "source": [
    "#65  How to accumulate elements of a vector (X) to an array (F) based on an index list (I)? \n",
    "X = [1,2,3,4,5,6]\n",
    "I = [1,3,9,3,4,1]\n",
    "F = np.bincount(I,X)\n",
    "print(F)"
   ]
  },
  {
   "cell_type": "code",
   "execution_count": null,
   "metadata": {},
   "outputs": [],
   "source": [
    "#66 Considering a (w,h,3) image of (dtype=ubyte), compute the number of unique colors \n",
    "a,b = 10,10\n",
    "C = np.random.randint(0,2,(a,b,3)).astype(np.ubyte)\n",
    "D = I[...,0]*256*256 + C[...,1]*256 +C[...,2]\n",
    "n = len(np.unique(C))\n",
    "print(np.unique(D))"
   ]
  },
  {
   "cell_type": "code",
   "execution_count": null,
   "metadata": {},
   "outputs": [],
   "source": [
    "#67 Considering a four dimensions array, how to get sum over the last two axis at once?\n",
    "array = np.random.randint(0, 10, size=(3, 4, 5, 6))\n",
    "\n",
    "sum_last_two_axes = np.sum(array, axis=(-2, -1))\n",
    "\n",
    "print(\"Original array shape:\", array.shape)\n",
    "print(\"Sum over the last two axes shape:\", sum_last_two_axes.shape)\n",
    "print(\"Sum over the last two axes:\")\n",
    "print(sum_last_two_axes)"
   ]
  },
  {
   "cell_type": "code",
   "execution_count": null,
   "metadata": {},
   "outputs": [],
   "source": [
    "#68 Considering a one-dimensional vector D, how to compute means of subsets of D using a vector S of same size describing subset indices?\n",
    "D = np.array([1, 2, 3, 4, 5, 6, 7, 8, 9, 10])\n",
    "S = np.array([0, 0, 1, 1, 2, 2, 3, 3, 3, 3])\n",
    "unique_indices = np.unique(S)\n",
    "\n",
    "# Compute the means of subsets\n",
    "subset_means = []\n",
    "for idx in unique_indices:\n",
    "    subset = D[S == idx]  # Select elements of D where S equals the current unique index\n",
    "    subset_mean = np.mean(subset)\n",
    "    subset_means.append(subset_mean)\n",
    "\n",
    "print(\"Vector D:\", D)\n",
    "print(\"Subset indices S:\", S)\n",
    "print(\"Subset means:\", subset_means)"
   ]
  },
  {
   "cell_type": "code",
   "execution_count": null,
   "metadata": {},
   "outputs": [],
   "source": [
    "#69 How to get the diagonal of a dot product? \n",
    "A = np.array([[1, 2, 3], [4, 5, 6],[7, 8, 9]])\n",
    "\n",
    "B = np.array([[9, 8, 7], [6, 5, 4], [3, 2, 1]])\n",
    "\n",
    "# Compute the dot product of A and B\n",
    "dot_product = np.dot(A, B)\n",
    "\n",
    "# Get the diagonal of the dot product\n",
    "diagonal = np.diagonal(dot_product)\n",
    "print(\"\\nDot Product:\")\n",
    "print(dot_product)\n",
    "print(\"\\nDiagonal of Dot Product:\")\n",
    "print(diagonal)"
   ]
  },
  {
   "cell_type": "code",
   "execution_count": null,
   "metadata": {},
   "outputs": [],
   "source": [
    "#70 Consider the vector [1, 2, 3, 4, 5], how to build a new vector with 3 consecutive zeros interleaved between each value?\n",
    "original_vector = np.array([1, 2, 3, 4, 5])\n",
    "\n",
    "# Number of consecutive zeros to insert between each value\n",
    "zeros_between_values = 3\n",
    "\n",
    "# Create an array with the original values repeated and zeros inserted\n",
    "new_vector = np.repeat(original_vector, zeros_between_values + 1)  # Repeat each value\n",
    "zeros_array = np.zeros_like(original_vector)  # Create an array of zeros with the same shape as original_vector\n",
    "interleaved_vector = np.concatenate([new_vector[:-1], zeros_array])  # Concatenate the repeated values with zeros\n",
    "interleaved_vector = np.concatenate([interleaved_vector, [new_vector[-1]]])  # Add the last repeated value\n",
    "\n",
    "print(\"Original vector:\", original_vector)\n",
    "print(\"Interleaved vector:\", interleaved_vector)"
   ]
  },
  {
   "cell_type": "code",
   "execution_count": null,
   "metadata": {},
   "outputs": [],
   "source": [
    "#71 Consider an array of dimension (5,5,3), how to mulitply it by an array with dimensions (5,5)? \n",
    "array_3d = np.random.randint(1, 10, size=(5, 5, 3))\n",
    "array_2d = np.random.randint(1, 10, size=(5, 5))\n",
    "result = array_3d * array_2d[:, :, None]\n",
    "print(\"\\nResult after element-wise multiplication:\")\n",
    "print(result)"
   ]
  },
  {
   "cell_type": "code",
   "execution_count": null,
   "metadata": {},
   "outputs": [],
   "source": [
    "#72 How to swap two rows of an array? \n",
    "A = np.arange(25).reshape(5,5)\n",
    "A[[0,1]] = A[[1,0]]\n",
    "print(A)"
   ]
  },
  {
   "cell_type": "code",
   "execution_count": null,
   "metadata": {},
   "outputs": [],
   "source": [
    "#73 Consider a set of 10 triplets describing 10 triangles (with shared vertices), find the set of unique line segments composing all the triangles\n",
    "faces = np.random.randint(0,100,(10,3))\n",
    "F = np.roll(faces.repeat(2,axis=1),-1,axis=1)\n",
    "F = F.reshape(len(F)*3,2)\n",
    "F = np.sort(F,axis=1)\n",
    "G = F.view( dtype=[('p0',F.dtype),('p1',F.dtype)] )\n",
    "G = np.unique(G)\n",
    "print(G)"
   ]
  },
  {
   "cell_type": "code",
   "execution_count": null,
   "metadata": {},
   "outputs": [],
   "source": [
    "#74 Given a sorted array C that corresponds to a bincount, how to produce an array A such that np.bincount(A) == C? \n",
    "C = np.array([0, 1, 2, 0, 3, 1, 2])\n",
    "max_value = len(C) - 1\n",
    "\n",
    "# Use np.repeat() to generate array A\n",
    "A = np.repeat(np.arange(len(C)), C)\n",
    "\n",
    "print(\"Array A:\", A)\n",
    "print(\"Result of np.bincount(A):\", np.bincount(A))\n",
    "print(\"Sorted array C:\", C)\n",
    "print(\"Are the results equal?\", np.array_equal(np.bincount(A), C))"
   ]
  },
  {
   "cell_type": "code",
   "execution_count": null,
   "metadata": {},
   "outputs": [],
   "source": [
    "#75 How to compute averages using a sliding window over an array? \n",
    "def moving_average(a, n=3) :\n",
    "    ret = np.cumsum(a, dtype=float)\n",
    "    ret[n:] = ret[n:] - ret[:-n]\n",
    "    return ret[n - 1:] / n\n",
    "Z = np.arange(20)\n",
    "print(moving_average(Z, n=3))"
   ]
  },
  {
   "cell_type": "code",
   "execution_count": null,
   "metadata": {},
   "outputs": [],
   "source": [
    "#76 Consider a one-dimensional array Z, build a two-dimensional array whose first row is (Z[0],Z[1],Z[2]) and each subsequent row is shifted by 1 (last row should be (Z[-3],Z[-2],Z[-1])\n",
    "Z = np.array([1, 2, 3, 4, 5, 6, 7])\n",
    "num_rows = len(Z) - 2\n",
    "num_columns = 3\n",
    "\n",
    "# Create a two-dimensional array using slicing and reshaping\n",
    "two_d_array = np.vstack([Z[i:i+num_columns] for i in range(num_rows)])\n",
    "\n",
    "print(\"One-dimensional array Z:\")\n",
    "print(Z)\n",
    "print(\"\\nTwo-dimensional array:\")\n",
    "print(two_d_array)"
   ]
  },
  {
   "cell_type": "code",
   "execution_count": null,
   "metadata": {},
   "outputs": [],
   "source": [
    "#77 How to negate a boolean, or to change the sign of a float inplace?\n",
    "from numpy.lib import stride_tricks\n",
    "\n",
    "def rolling(a, window):\n",
    "    shape = (a.size - window + 1, window)\n",
    "    strides = (a.itemsize, a.itemsize)\n",
    "    return stride_tricks.as_strided(a, shape=shape, strides=strides)\n",
    "Z = rolling(np.arange(10), 3)\n",
    "print(Z)"
   ]
  },
  {
   "cell_type": "code",
   "execution_count": null,
   "metadata": {},
   "outputs": [],
   "source": [
    "#78 Consider 2 sets of points P0,P1 describing lines (2d) and a point p, how to compute distance from p to each line i (P0[i],P1[i])? \n",
    "def distance(P0, P1, p):\n",
    "    T = P1 - P0\n",
    "    L = (T**2).sum(axis=1)\n",
    "    U = -((P0[:,0]-p[...,0])*T[:,0] + (P0[:,1]-p[...,1])*T[:,1]) / L\n",
    "    U = U.reshape(len(U),1)\n",
    "    D = P0 + U*T - p\n",
    "    return np.sqrt((D**2).sum(axis=1))\n",
    "\n",
    "P0 = np.random.uniform(-10,10,(10,2))\n",
    "P1 = np.random.uniform(-10,10,(10,2))\n",
    "p  = np.random.uniform(-10,10,( 1,2))\n",
    "print(distance(P0, P1, p))"
   ]
  },
  {
   "cell_type": "code",
   "execution_count": null,
   "metadata": {},
   "outputs": [],
   "source": [
    "#79 Consider 2 sets of points P0,P1 describing lines (2d) and a set of points P, how to compute distance from each point j (P[j]) to each line i (P0[i],P1[i])? \n",
    "P0 = np.random.uniform(-10, 10, (10,2))\n",
    "P1 = np.random.uniform(-10,10,(10,2))\n",
    "p = np.random.uniform(-10, 10, (10,2))\n",
    "print(np.array([distance(P0,P1,p_i) for p_i in p]))"
   ]
  },
  {
   "cell_type": "code",
   "execution_count": null,
   "metadata": {},
   "outputs": [],
   "source": [
    "#80 Consider an arbitrary array, write a function that extract a subpart with a fixed shape and centered on a given element (pad with a fill value when necessary)\n",
    "Z = np.random.randint(0,10,(10,10))\n",
    "shape = (5,5)\n",
    "fill  = 0\n",
    "position = (1,1)\n",
    "\n",
    "R = np.ones(shape, dtype=Z.dtype)*fill\n",
    "P  = np.array(list(position)).astype(int)\n",
    "Rs = np.array(list(R.shape)).astype(int)\n",
    "Zs = np.array(list(Z.shape)).astype(int)\n",
    "\n",
    "R_start = np.zeros((len(shape),)).astype(int)\n",
    "R_stop  = np.array(list(shape)).astype(int)\n",
    "Z_start = (P-Rs//2)\n",
    "Z_stop  = (P+Rs//2)+Rs%2\n",
    "\n",
    "R_start = (R_start - np.minimum(Z_start,0)).tolist()\n",
    "Z_start = (np.maximum(Z_start,0)).tolist()\n",
    "R_stop = np.maximum(R_start, (R_stop - np.maximum(Z_stop-Zs,0))).tolist()\n",
    "Z_stop = (np.minimum(Z_stop,Zs)).tolist()\n",
    "\n",
    "r = [slice(start,stop) for start,stop in zip(R_start,R_stop)]\n",
    "z = [slice(start,stop) for start,stop in zip(Z_start,Z_stop)]\n",
    "R[r] = Z[z]\n",
    "print(Z)\n",
    "print(R)"
   ]
  },
  {
   "cell_type": "code",
   "execution_count": null,
   "metadata": {},
   "outputs": [],
   "source": [
    "#81 Consider an array Z = [1,2,3,4,5,6,7,8,9,10,11,12,13,14], how to generate an array R = [[1,2,3,4], [2,3,4,5], [3,4,5,6], ..., [11,12,13,14]]? \n",
    "Z = np.arange(1,15,dtype=np.uint32)\n",
    "R = stride_tricks.as_strided(Z,(11,4),(4,4))\n",
    "print(R)"
   ]
  },
  {
   "cell_type": "code",
   "execution_count": null,
   "metadata": {},
   "outputs": [],
   "source": [
    "#82 Compute a matrix rank\n",
    "matrix = np.array([[1, 2, 3], [4, 5, 6], [7, 8, 9]])\n",
    "\n",
    "# Compute the rank of the matrix\n",
    "rank = np.linalg.matrix_rank(matrix)\n",
    "\n",
    "print(\"Matrix:\")\n",
    "print(matrix)\n",
    "print(\"\\nRank of the matrix:\", rank)"
   ]
  },
  {
   "cell_type": "code",
   "execution_count": null,
   "metadata": {},
   "outputs": [],
   "source": [
    "#83 How to find the most frequent value in an array?\n",
    "array = np.array([1, 2, 3, 2, 2, 3, 4, 5, 2])\n",
    "\n",
    "unique_values, counts = np.unique(array, return_counts=True)\n",
    "most_frequent_index = np.argmax(counts)  # Find the index of the maximum count\n",
    "\n",
    "# The most frequent value is the unique value corresponding to the maximum count\n",
    "most_frequent_value = unique_values[most_frequent_index]\n",
    "\n",
    "print(\"Array:\", array)\n",
    "print(\"Most frequent value:\", most_frequent_value)"
   ]
  },
  {
   "cell_type": "code",
   "execution_count": null,
   "metadata": {},
   "outputs": [],
   "source": [
    "#84 Extract all the contiguous 3x3 blocks from a random 10x10 matrix\n",
    "matrix = np.random.randint(1, 10, size=(10, 10))\n",
    "blocks = []\n",
    "for i in range(8):  # Iterate over rows\n",
    "    for j in range(8):  # Iterate over columns\n",
    "        block = matrix[i:i+3, j:j+3]  # Extract 3x3 block\n",
    "        blocks.append(block)\n",
    "\n",
    "# Convert the list of blocks to a NumPy array\n",
    "blocks_array = np.array(blocks)\n",
    "\n",
    "# Print the original matrix and the extracted blocks\n",
    "print(\"Original 10x10 matrix:\")\n",
    "print(matrix)\n",
    "print(\"\\nExtracted 3x3 blocks:\")\n",
    "for block in blocks_array:\n",
    "    print(block)"
   ]
  },
  {
   "cell_type": "code",
   "execution_count": null,
   "metadata": {},
   "outputs": [],
   "source": [
    "#85 Create a 2D array subclass such that Z[i,j] == Z[j,i] \n",
    "class SymmetricArray(np.ndarray):\n",
    "    def __new__(cls, input_array):\n",
    "        obj = np.asarray(input_array).view(cls)\n",
    "        return obj\n",
    "\n",
    "    def __getitem__(self, index):\n",
    "        i, j = index\n",
    "        if i < j:\n",
    "            return super().__getitem__((j, i))\n",
    "        else:\n",
    "            return super().__getitem__(index)\n",
    "\n",
    "# Example usage\n",
    "array = np.array([[1, 2, 3],\n",
    "                  [4, 5, 6],\n",
    "                  [7, 8, 9]])\n",
    "\n",
    "symmetric_array = SymmetricArray(array)\n",
    "print(\"Original array:\")\n",
    "print(array)\n",
    "print(\"\\nSymmetric array:\")\n",
    "print(symmetric_array)\n",
    "print(\"\\nAccessing elements:\")\n",
    "print(\"symmetric_array[0, 1]:\", symmetric_array[0, 1])\n",
    "print(\"symmetric_array[1, 0]:\", symmetric_array[1, 0])"
   ]
  },
  {
   "cell_type": "code",
   "execution_count": null,
   "metadata": {},
   "outputs": [],
   "source": [
    "#86 Consider a set of p matrices with shape (n,n) and a set of p vectors with shape (n,1). How to compute the sum of of the p matrix products at once? (result has shape (n,1))\n",
    "def sum_of_matrix_products(matrices, vectors):\n",
    "    # Compute the tensor dot product along the last axis (axis=-1)\n",
    "    products = np.tensordot(matrices, vectors, axes=(-1, -1))\n",
    "    # Sum along the first axis to get the result\n",
    "    result = np.sum(products, axis=0)\n",
    "    return result\n",
    "p = 3\n",
    "n = 4\n",
    "\n",
    "# Generate random matrices and vectors\n",
    "matrices = np.random.randint(1, 10, size=(p, n, n))\n",
    "vectors = np.random.randint(1, 10, size=(p, n, 1))\n",
    "\n",
    "# Compute the sum of matrix products\n",
    "result = sum_of_matrix_products(matrices, vectors)\n",
    "\n",
    "print(\"Result:\")\n",
    "print(result)"
   ]
  },
  {
   "cell_type": "code",
   "execution_count": null,
   "metadata": {},
   "outputs": [],
   "source": [
    "#87 Consider a 16x16 array, how to get the block-sum (block size is 4x4)? \n",
    "array = np.random.randint(1, 10, size=(16, 16))\n",
    "\n",
    "# Reshape the array into blocks of size 4x4\n",
    "blocks = array.reshape(4, 4, 4, 4)\n",
    "\n",
    "# Compute the sum along the last two axes (axis=(2,3))\n",
    "block_sums = np.sum(blocks, axis=(2, 3))\n",
    "\n",
    "print(\"Original 16x16 array:\")\n",
    "print(array)\n",
    "print(\"\\nBlock-sums (block size 4x4):\")\n",
    "print(block_sums)"
   ]
  },
  {
   "cell_type": "code",
   "execution_count": null,
   "metadata": {},
   "outputs": [],
   "source": [
    "#88 How to implement the Game of Life using numpy arrays? \n",
    "\n",
    "def iterate(Z):\n",
    "    # Count neighbours\n",
    "    N = (Z[0:-2,0:-2] + Z[0:-2,1:-1] + Z[0:-2,2:] +\n",
    "         Z[1:-1,0:-2]                + Z[1:-1,2:] +\n",
    "         Z[2:  ,0:-2] + Z[2:  ,1:-1] + Z[2:  ,2:])\n",
    "\n",
    "    # Apply rules\n",
    "    birth = (N==3) & (Z[1:-1,1:-1]==0)\n",
    "    survive = ((N==2) | (N==3)) & (Z[1:-1,1:-1]==1)\n",
    "    Z[...] = 0\n",
    "    Z[1:-1,1:-1][birth | survive] = 1\n",
    "    return Z\n",
    "\n",
    "Z = np.random.randint(0,2,(50,50))\n",
    "for i in range(100): Z = iterate(Z)\n",
    "print(Z)"
   ]
  },
  {
   "cell_type": "code",
   "execution_count": null,
   "metadata": {},
   "outputs": [],
   "source": [
    "#89  How to get the n largest values of an array \n",
    "arr = np.array([1, 5, 3, 9, 7, 2, 8, 4, 6])\n",
    "n = 3\n",
    "\n",
    "# Find the indices of the n largest values using partition\n",
    "indices = np.argpartition(arr, -n)[-n:]\n",
    "\n",
    "# Get the n largest values\n",
    "n_largest_values = arr[indices]\n",
    "\n",
    "print(\"Original array:\", arr)\n",
    "print(\"Indices of the {} largest values:\".format(n), indices)\n",
    "print(\"The {} largest values:\".format(n), n_largest_values)"
   ]
  },
  {
   "cell_type": "code",
   "execution_count": null,
   "metadata": {},
   "outputs": [],
   "source": [
    "#90 Given an arbitrary number of vectors, build the cartesian product (every combinations of every item) \n",
    "def cartesian(arrays):\n",
    "    arrays = [np.asarray(a) for a in arrays]\n",
    "    shape = (len(x) for x in arrays)\n",
    "\n",
    "    ix = np.indices(shape, dtype=int)\n",
    "    ix = ix.reshape(len(arrays), -1).T\n",
    "\n",
    "    for n, arr in enumerate(arrays):\n",
    "        ix[:, n] = arrays[n][ix[:, n]]\n",
    "\n",
    "    return ix\n",
    "\n",
    "print (cartesian(([1, 2, 3], [4, 5], [6, 7])))"
   ]
  },
  {
   "cell_type": "code",
   "execution_count": null,
   "metadata": {},
   "outputs": [],
   "source": [
    "#91 How to create a record array from a regular array? \n",
    "arr = np.array([(1, 'John', 28),\n",
    "                          (2, 'Alice', 35),\n",
    "                          (3, 'Bob', 42)],\n",
    "                         dtype=[('id', int), ('name', 'U10'), ('age', int)])\n",
    "\n",
    "# Create a record array\n",
    "record_array = np.rec.array(arr)\n",
    "\n",
    "print(\"Regular array:\")\n",
    "print(arr)\n",
    "print(\"\\nRecord array:\")\n",
    "print(record_array)"
   ]
  },
  {
   "cell_type": "code",
   "execution_count": null,
   "metadata": {},
   "outputs": [],
   "source": [
    "#92 Consider a large vector Z, compute Z to the power of 3 using 3 different methods \n",
    "Z = np.random.rand(1000000)\n",
    "\n",
    "# Compute Z to the power of 3 using np.power()\n",
    "result_np_power = np.power(Z, 3)"
   ]
  },
  {
   "cell_type": "code",
   "execution_count": null,
   "metadata": {},
   "outputs": [],
   "source": [
    "#93 Consider two arrays A and B of shape (8,3) and (2,2). How to find rows of A that contain elements of each row of B regardless of the order of the elements in B? \n",
    "A = np.array([[1, 2, 3],[4, 5, 6],[7, 8, 9],[3, 2, 1], [6, 5, 4],[9, 8, 7], [1, 3, 2],[5, 6, 4]])\n",
    "\n",
    "B = np.array([[1, 2],[3, 4]])\n",
    "\n",
    "# Convert rows of B to sets for efficient comparison\n",
    "B_sets = [set(row) for row in B]\n",
    "\n",
    "# Find rows of A that contain elements of each row of B\n",
    "result = [row for row in A if all(set(row).intersection(b_row) == b_row for b_row in B_sets)]\n",
    "\n",
    "print(\"Rows of A that contain elements of each row of B:\")\n",
    "print(result)"
   ]
  },
  {
   "cell_type": "code",
   "execution_count": null,
   "metadata": {},
   "outputs": [],
   "source": [
    "#94 Considering a 10x3 matrix, extract rows with unequal values (e.g. [2,2,3])\n",
    "matrix = np.random.randint(0, 5, size=(10, 3))  \n",
    "\n",
    "# Extract rows with unequal values\n",
    "unequal_rows = matrix[~np.all(matrix[:, 1:] == matrix[:, :-1], axis=1)]\n",
    "\n",
    "print(\"Matrix:\")\n",
    "print(matrix)\n",
    "print(\"\\nRows with unequal values:\")\n",
    "print(unequal_rows)"
   ]
  },
  {
   "cell_type": "code",
   "execution_count": null,
   "metadata": {},
   "outputs": [],
   "source": [
    "#95 Convert a vector of ints into a matrix binary representation\n",
    "vector = np.array([5, 3, 7, 2, 10])\n",
    "\n",
    "# Determine the number of bits needed to represent the maximum value in the vector\n",
    "max_value = np.max(vector)\n",
    "num_bits = int(np.ceil(np.log2(max_value + 1)))\n",
    "\n",
    "# Convert each integer to its binary representation\n",
    "binary_matrix = np.unpackbits(np.expand_dims(vector, axis=1), axis=1)\n",
    "\n",
    "# Trim the leading zeros to make each row have the same length\n",
    "binary_matrix = binary_matrix[:, -num_bits:]\n",
    "\n",
    "print(\"Binary matrix representation:\")\n",
    "print(binary_matrix)"
   ]
  },
  {
   "cell_type": "code",
   "execution_count": null,
   "metadata": {},
   "outputs": [],
   "source": [
    "#96 Given a two dimensional array, how to extract unique rows?\n",
    "array_2d = np.array([[1, 2, 3], [4, 5, 6], [1, 2, 3], [7, 8, 9], [4, 5, 6]])\n",
    "\n",
    "# Extract unique rows\n",
    "unique_rows = np.unique(array_2d, axis=0)\n",
    "\n",
    "print(\"Original array:\")\n",
    "print(array_2d)\n",
    "print(\"\\nUnique rows:\")\n",
    "print(unique_rows)"
   ]
  },
  {
   "cell_type": "code",
   "execution_count": null,
   "metadata": {},
   "outputs": [],
   "source": [
    "#97 Considering 2 vectors A & B, write the einsum equivalent of inner, outer, sum, and mul function\n",
    "A = np.random.uniform(0,1,10)\n",
    "B = np.random.uniform(0,1,10)\n",
    "\n",
    "np.einsum('i->', A)       # np.sum(A)\n",
    "np.einsum('i,i->i', A, B) # A * B\n",
    "np.einsum('i,i', A, B)    # np.inner(A, B)\n",
    "np.einsum('i,j->ij', A, B)    # np.outer(A, B)"
   ]
  },
  {
   "cell_type": "code",
   "execution_count": null,
   "metadata": {},
   "outputs": [],
   "source": [
    "#98 Considering a path described by two vectors (X,Y), how to sample it using equidistant samples\n",
    "phi = np.arange(0, 10*np.pi, 0.1)\n",
    "a = 1\n",
    "x = a*phi*np.cos(phi)\n",
    "y = a*phi*np.sin(phi)\n",
    "\n",
    "dr = (np.diff(x)**2 + np.diff(y)**2)**.5 # segment lengths\n",
    "r = np.zeros_like(x)\n",
    "r[1:] = np.cumsum(dr)                # integrate path\n",
    "r_int = np.linspace(0, r.max(), 200) # regular spaced path\n",
    "x_int = np.interp(r_int, r, x)       # integrate path\n",
    "y_int = np.interp(r_int, r, y)"
   ]
  },
  {
   "cell_type": "code",
   "execution_count": null,
   "metadata": {},
   "outputs": [],
   "source": [
    "#99 Given an integer n and a 2D array X, select from X the rows which can be interpreted as draws from a multinomial distribution with n degrees, i.e., the rows which only contain integers and which sum to n.\n",
    "def select_multinomial_rows(X, n):\n",
    "    # Check if each row contains only integers and sums to n\n",
    "    mask = np.logical_and(np.all(X == X.astype(int), axis=1), np.sum(X, axis=1) == n)\n",
    "    \n",
    "    # Select rows that meet the criteria\n",
    "    selected_rows = X[mask]\n",
    "    \n",
    "    return selected_rows\n",
    "\n",
    "# Example 2D array X\n",
    "X = np.array([[1, 2, 3],[4, 5, 1],[0, 0, 10],[2, 2, 3]])\n",
    "\n",
    "# Degree of the multinomial distribution\n",
    "n = 6\n",
    "\n",
    "# Select rows from X that meet the criteria\n",
    "selected_rows = select_multinomial_rows(X, n)\n",
    "\n",
    "# Print the selected rows\n",
    "print(\"Selected rows:\")\n",
    "print(selected_rows)"
   ]
  },
  {
   "cell_type": "code",
   "execution_count": null,
   "metadata": {},
   "outputs": [],
   "source": [
    "#100 Compute bootstrapped 95% confidence intervals for the mean of a 1D array X (i.e., resample the elements of an array with replacement N times, compute the mean of each sample, and then compute percentiles over the means).\n",
    "def bootstrap_confidence_intervals(X, N, alpha=0.05):\n",
    "    num_resamples = N   # Number of resamples\n",
    "\n",
    "    # Initialize array to store resampled means\n",
    "    resampled_means = np.zeros(num_resamples)\n",
    "\n",
    "    # Perform bootstrapping\n",
    "    for i in range(num_resamples):\n",
    "        # Resample with replacement\n",
    "        resampled_X = np.random.choice(X, size=len(X), replace=True)\n",
    "        # Compute mean of resampled data\n",
    "        resampled_means[i] = np.mean(resampled_X)\n",
    "\n",
    "    # Compute percentiles for confidence intervals\n",
    "    lower_percentile = (alpha / 2) * 100\n",
    "    upper_percentile = 100 - lower_percentile\n",
    "    lower_ci = np.percentile(resampled_means, lower_percentile)\n",
    "    upper_ci = np.percentile(resampled_means, upper_percentile)\n",
    "\n",
    "    return lower_ci, upper_ci\n",
    "\n",
    "# Example 1D array X\n",
    "X = np.array([1, 2, 3, 4, 5, 6, 7, 8, 9, 10])\n",
    "\n",
    "# Number of resamples\n",
    "N = 1000\n",
    "\n",
    "# Compute bootstrapped confidence intervals\n",
    "lower_ci, upper_ci = bootstrap_confidence_intervals(X, N)\n",
    "\n",
    "# Print the confidence intervals\n",
    "print(\"Bootstrapped 95% Confidence Intervals for the Mean:\")\n",
    "print(\"Lower Bound:\", lower_ci)\n",
    "print(\"Upper Bound:\", upper_ci)\n"
   ]
  }
 ],
 "metadata": {
  "kernelspec": {
   "display_name": "ArewaDSworkspace",
   "language": "python",
   "name": "python3"
  },
  "language_info": {
   "codemirror_mode": {
    "name": "ipython",
    "version": 3
   },
   "file_extension": ".py",
   "mimetype": "text/x-python",
   "name": "python",
   "nbconvert_exporter": "python",
   "pygments_lexer": "ipython3",
   "version": "3.8.18"
  }
 },
 "nbformat": 4,
 "nbformat_minor": 2
}
